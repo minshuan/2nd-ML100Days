{
 "cells": [
  {
   "cell_type": "markdown",
   "metadata": {},
   "source": [
    "作業1:Malaria Cell Images Dataset\n",
    "\n",
    "1. 你選的這組資料為何重要\n",
    "\n",
    "蚊子廣泛分布於人類所生存的環境之中，對於虐疾傳播有著重大的影響\n",
    "\n",
    "2. 資料從何而來 (tips: 譬如提供者是誰、以什麼方式蒐集)\n",
    "\n",
    "數據集來自 NIH官方網站:https://ceb.nlm.nih.gov/repositories/malaria-datasets/\n",
    "\n",
    "照片來自ЕгорКамелев的Unsplash: https://unsplash.com/@ekamelev\n",
    "\n",
    "並由Arunava整理上傳於kaggle :https://www.kaggle.com/iarunava/cell-images-for-detecting-malaria\n",
    "\n",
    "3. 蒐集而來的資料型態為何\n",
    "\n",
    "png圖像\n",
    "\n",
    "4. 這組資料想解決的問題如何評估\n",
    "\n",
    "透過圖片分析感染與否的正確率"
   ]
  },
  {
   "cell_type": "markdown",
   "metadata": {},
   "source": [
    "作業2:經營一個自由載客車隊\n",
    "\n",
    "1. 核心問題為何 (tips：如何定義 「提升業績 & 你的假設」)\n",
    "\n",
    "各個地區人流可能隨著上下班時間、活動等因素有所不同，如何分配待命車子數量已得到最好的載客率\n",
    "\n",
    "2. 資料從何而來 (tips：哪些資料可能會對你想問的問題產生影響 & 資料如何蒐集)\n",
    "\n",
    "蒐集各大交通站各時段的人流分布以及各大商圈、藝文場所的人流分布(時間、地區)\n",
    "\n",
    "3. 蒐集而來的資料型態為何\n",
    "\n",
    "轉換為數據或是圖表\n",
    "\n",
    "4. 你要回答的問題，其如何評估 (tips：你的假設如何驗證)\n",
    "\n",
    "依據分配各時段的派車人員及人員停駐位置"
   ]
  }
 ],
 "metadata": {
  "kernelspec": {
   "display_name": "Python 3",
   "language": "python",
   "name": "python3"
  },
  "language_info": {
   "codemirror_mode": {
    "name": "ipython",
    "version": 3
   },
   "file_extension": ".py",
   "mimetype": "text/x-python",
   "name": "python",
   "nbconvert_exporter": "python",
   "pygments_lexer": "ipython3",
   "version": "3.7.1"
  }
 },
 "nbformat": 4,
 "nbformat_minor": 2
}
